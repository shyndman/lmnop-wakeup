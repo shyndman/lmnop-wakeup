{
 "cells": [
  {
   "cell_type": "code",
   "execution_count": null,
   "id": "b8a6e875",
   "metadata": {},
   "outputs": [],
   "source": [
    "%load_ext autoreload\n",
    "%autoreload 2\n",
    "%load_ext dotenv\n",
    "\n",
    "# Get the output from the cat command and process it\n",
    "!cp .env .env.tmp\n",
    "!op inject --force --in-file .env.tmp --out-file .env.tmp\n",
    "%dotenv -o .env.tmp\n",
    "!rm .env.tmp"
   ]
  },
  {
   "cell_type": "code",
   "execution_count": null,
   "id": "dcf13897",
   "metadata": {},
   "outputs": [],
   "source": [
    "from datetime import datetime\n",
    "\n",
    "import rich\n",
    "\n",
    "from lmnop_wakeup.location.model import LocationName, location_named\n",
    "from lmnop_wakeup.weather.weather_api import get_sunset_oracle_report\n",
    "\n",
    "home = location_named(LocationName.home)\n",
    "now = datetime.now().astimezone()\n",
    "# rich.print(await get_weather_report(home, now))\n",
    "\n",
    "get_sunset_oracle_report(home, now)"
   ]
  },
  {
   "cell_type": "code",
   "execution_count": null,
   "id": "2499bb07",
   "metadata": {},
   "outputs": [],
   "source": [
    "from datetime import datetime\n",
    "from math import ceil\n",
    "\n",
    "indate = datetime(2025, 5, 26, 0, 0, 0).astimezone()\n",
    "now = datetime.now().astimezone(tz=indate.tzinfo)\n",
    "day_delta = ceil((indate - now).total_seconds() / 60.0 / 60.0 / 24.0)\n",
    "if day_delta >= 0:\n",
    "  forecast_days = day_delta + 1\n",
    "  past_days = 0\n",
    "else:\n",
    "  forecast_days = 0\n",
    "  past_days = day_delta\n",
    "\n",
    "rich.print(forecast_days, past_days)"
   ]
  },
  {
   "cell_type": "code",
   "execution_count": null,
   "id": "1e220a2b",
   "metadata": {},
   "outputs": [],
   "source": []
  },
  {
   "cell_type": "code",
   "execution_count": null,
   "id": "57d6292a",
   "metadata": {},
   "outputs": [],
   "source": []
  },
  {
   "cell_type": "code",
   "execution_count": null,
   "id": "55a28f77",
   "metadata": {},
   "outputs": [],
   "source": []
  }
 ],
 "metadata": {
  "kernelspec": {
   "display_name": ".venv",
   "language": "python",
   "name": "python3"
  },
  "language_info": {
   "codemirror_mode": {
    "name": "ipython",
    "version": 3
   },
   "file_extension": ".py",
   "mimetype": "text/x-python",
   "name": "python",
   "nbconvert_exporter": "python",
   "pygments_lexer": "ipython3"
  }
 },
 "nbformat": 4,
 "nbformat_minor": 5
}
